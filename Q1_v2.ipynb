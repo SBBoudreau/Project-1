{
 "cells": [
  {
   "cell_type": "code",
   "execution_count": 7,
   "metadata": {},
   "outputs": [],
   "source": [
    "import requests \n",
    "import json\n",
    "from pprint import pprint\n",
    "import os\n",
    "import pandas as pd\n",
    "import csv\n",
    "import numpy as np\n",
    "import matplotlib\n",
    "import matplotlib.pyplot as plt\n",
    "import scipy.stats as sts\n",
    "import gmaps\n",
    "from scipy.stats import sem\n",
    "from scipy.stats import linregress\n",
    "from config import Q1api_key\n",
    "from config import Q1_GKey"
   ]
  },
  {
   "cell_type": "code",
   "execution_count": 8,
   "metadata": {},
   "outputs": [
    {
     "data": {
      "text/html": [
       "<div>\n",
       "<style scoped>\n",
       "    .dataframe tbody tr th:only-of-type {\n",
       "        vertical-align: middle;\n",
       "    }\n",
       "\n",
       "    .dataframe tbody tr th {\n",
       "        vertical-align: top;\n",
       "    }\n",
       "\n",
       "    .dataframe thead th {\n",
       "        text-align: right;\n",
       "    }\n",
       "</style>\n",
       "<table border=\"1\" class=\"dataframe\">\n",
       "  <thead>\n",
       "    <tr style=\"text-align: right;\">\n",
       "      <th></th>\n",
       "      <th>Unnamed: 0</th>\n",
       "      <th>ISO3</th>\n",
       "      <th>Country</th>\n",
       "      <th>Year</th>\n",
       "      <th>Temp_Farenheit</th>\n",
       "      <th>Rainfall_mm</th>\n",
       "      <th>GDP</th>\n",
       "      <th>GDP_md</th>\n",
       "      <th>GDP_bd</th>\n",
       "    </tr>\n",
       "  </thead>\n",
       "  <tbody>\n",
       "    <tr>\n",
       "      <th>0</th>\n",
       "      <td>0</td>\n",
       "      <td>AFG</td>\n",
       "      <td>Afghanistan</td>\n",
       "      <td>2005</td>\n",
       "      <td>56.087945</td>\n",
       "      <td>29.609967</td>\n",
       "      <td>6.209138e+09</td>\n",
       "      <td>6209.137625</td>\n",
       "      <td>6.209138</td>\n",
       "    </tr>\n",
       "    <tr>\n",
       "      <th>1</th>\n",
       "      <td>1</td>\n",
       "      <td>AFG</td>\n",
       "      <td>Afghanistan</td>\n",
       "      <td>2006</td>\n",
       "      <td>57.501470</td>\n",
       "      <td>27.120458</td>\n",
       "      <td>6.971286e+09</td>\n",
       "      <td>6971.285595</td>\n",
       "      <td>6.971286</td>\n",
       "    </tr>\n",
       "    <tr>\n",
       "      <th>2</th>\n",
       "      <td>2</td>\n",
       "      <td>AFG</td>\n",
       "      <td>Afghanistan</td>\n",
       "      <td>2007</td>\n",
       "      <td>56.320054</td>\n",
       "      <td>25.329681</td>\n",
       "      <td>9.747880e+09</td>\n",
       "      <td>9747.879532</td>\n",
       "      <td>9.747880</td>\n",
       "    </tr>\n",
       "    <tr>\n",
       "      <th>3</th>\n",
       "      <td>3</td>\n",
       "      <td>AFG</td>\n",
       "      <td>Afghanistan</td>\n",
       "      <td>2008</td>\n",
       "      <td>56.755070</td>\n",
       "      <td>21.505365</td>\n",
       "      <td>1.010923e+10</td>\n",
       "      <td>10109.225814</td>\n",
       "      <td>10.109226</td>\n",
       "    </tr>\n",
       "    <tr>\n",
       "      <th>4</th>\n",
       "      <td>4</td>\n",
       "      <td>AFG</td>\n",
       "      <td>Afghanistan</td>\n",
       "      <td>2009</td>\n",
       "      <td>56.807912</td>\n",
       "      <td>31.106477</td>\n",
       "      <td>1.243909e+10</td>\n",
       "      <td>12439.087077</td>\n",
       "      <td>12.439087</td>\n",
       "    </tr>\n",
       "  </tbody>\n",
       "</table>\n",
       "</div>"
      ],
      "text/plain": [
       "   Unnamed: 0 ISO3      Country  Year  Temp_Farenheit  Rainfall_mm  \\\n",
       "0           0  AFG  Afghanistan  2005       56.087945    29.609967   \n",
       "1           1  AFG  Afghanistan  2006       57.501470    27.120458   \n",
       "2           2  AFG  Afghanistan  2007       56.320054    25.329681   \n",
       "3           3  AFG  Afghanistan  2008       56.755070    21.505365   \n",
       "4           4  AFG  Afghanistan  2009       56.807912    31.106477   \n",
       "\n",
       "            GDP        GDP_md     GDP_bd  \n",
       "0  6.209138e+09   6209.137625   6.209138  \n",
       "1  6.971286e+09   6971.285595   6.971286  \n",
       "2  9.747880e+09   9747.879532   9.747880  \n",
       "3  1.010923e+10  10109.225814  10.109226  \n",
       "4  1.243909e+10  12439.087077  12.439087  "
      ]
     },
     "execution_count": 8,
     "metadata": {},
     "output_type": "execute_result"
    }
   ],
   "source": [
    "# # Import Merged GDP and Weather data\n",
    "merge_path = os.path.join(\"Resources\", \"Merge_data_2005-2015.csv\")\n",
    "merge_df = pd.read_csv(merge_path)\n",
    "\n",
    "merge_df.head()"
   ]
  },
  {
   "cell_type": "code",
   "execution_count": 9,
   "metadata": {},
   "outputs": [
    {
     "name": "stdout",
     "output_type": "stream",
     "text": [
      "Maximum temperature in data is 85.173935\n",
      "Minimum temperature in data is 0.8050399999999988\n",
      "Maximum temperature in data is 18219.3\n",
      "Minimum temperature in data is 0.02183909889\n"
     ]
    }
   ],
   "source": [
    "# # Understand the data\n",
    "max_Temp = merge_df['Temp_Farenheit'].max()\n",
    "min_Temp = merge_df['Temp_Farenheit'].min()\n",
    "print(f\"Maximum temperature in data is {max_Temp}\")\n",
    "print(f\"Minimum temperature in data is {min_Temp}\")\n",
    "\n",
    "max_GDP = merge_df['GDP_bd'].max()\n",
    "min_GDP = merge_df['GDP_bd'].min()\n",
    "print(f\"Maximum temperature in data is {max_GDP}\")\n",
    "print(f\"Minimum temperature in data is {min_GDP}\")"
   ]
  },
  {
   "cell_type": "code",
   "execution_count": 10,
   "metadata": {},
   "outputs": [
    {
     "data": {
      "image/png": "[encoded data removed]",
      "text/plain": [
       "<Figure size 432x288 with 1 Axes>"
      ]
     },
     "metadata": {
      "needs_background": "light"
     },
     "output_type": "display_data"
    }
   ],
   "source": [
    "# # Plot all the data\n",
    "# Plot the Temperature versus GDP data to look for trend/features to investigate\n",
    "ListofISO34Plot = merge_df['ISO3']\n",
    "for ISO in ListofISO34Plot:\n",
    "    TemporaryScatterPlot_df = merge_df.loc[merge_df['ISO3']== ISO]\n",
    "    TempCorrList = []\n",
    "    TempCorrDict = {}\n",
    "\n",
    "    GDP_plot = TemporaryScatterPlot_df['GDP_bd']\n",
    "    Temps = TemporaryScatterPlot_df['Temp_Farenheit']\n",
    "    Yrs = [2005, 2006, 2007, 2008, 2009, 2010, 2011, 2012, 2013, 2014, 2015]\n",
    "\n",
    "    \n",
    "    plt.scatter(x=GDP_plot, y=Temps, marker='o', facecolor='b', edgecolors='purple', alpha = 0.75)\n",
    "    plt.title(f\"GDP vs Average Annual temp (F)\")\n",
    "    plt.xlabel(\"GDP (billion $)\")\n",
    "    plt.ylabel(\"Average Annual temp (F)\")\n",
    "#     plt.figure(figsize=(15,5))\n",
    "    plt.savefig(\"output_data/Q1/Fig1x_AvTemp_vs_GDP_AllCountries.png\")\n"
   ]
  },
  {
   "cell_type": "code",
   "execution_count": 11,
   "metadata": {},
   "outputs": [
    {
     "ename": "NameError",
     "evalue": "name 'zone1_2_df' is not defined",
     "output_type": "error",
     "traceback": [
      "\u001b[1;31m---------------------------------------------------------------------------\u001b[0m",
      "\u001b[1;31mNameError\u001b[0m                                 Traceback (most recent call last)",
      "\u001b[1;32m<ipython-input-11-4c851c80c4af>\u001b[0m in \u001b[0;36m<module>\u001b[1;34m\u001b[0m\n\u001b[0;32m     11\u001b[0m \u001b[1;31m# Create a merged (zone1, 2 & 3) dataframe\u001b[0m\u001b[1;33m\u001b[0m\u001b[1;33m\u001b[0m\u001b[1;33m\u001b[0m\u001b[0m\n\u001b[0;32m     12\u001b[0m \u001b[0mZONE_df\u001b[0m \u001b[1;33m=\u001b[0m \u001b[0mmerge_df\u001b[0m\u001b[1;33m.\u001b[0m\u001b[0mloc\u001b[0m\u001b[1;33m[\u001b[0m\u001b[1;33m(\u001b[0m\u001b[0mmerge_df\u001b[0m\u001b[1;33m[\u001b[0m\u001b[1;34m'Temp_Farenheit'\u001b[0m\u001b[1;33m]\u001b[0m\u001b[1;33m>=\u001b[0m\u001b[1;36m18\u001b[0m\u001b[1;33m)\u001b[0m \u001b[1;33m&\u001b[0m \u001b[1;33m(\u001b[0m\u001b[0mmerge_df\u001b[0m\u001b[1;33m[\u001b[0m\u001b[1;34m'Temp_Farenheit'\u001b[0m\u001b[1;33m]\u001b[0m\u001b[1;33m<=\u001b[0m\u001b[1;36m28\u001b[0m\u001b[1;33m)\u001b[0m \u001b[1;33m|\u001b[0m \u001b[1;33m(\u001b[0m\u001b[0mmerge_df\u001b[0m\u001b[1;33m[\u001b[0m\u001b[1;34m'Temp_Farenheit'\u001b[0m\u001b[1;33m]\u001b[0m\u001b[1;33m>=\u001b[0m\u001b[1;36m40\u001b[0m\u001b[1;33m)\u001b[0m \u001b[1;33m&\u001b[0m \u001b[1;33m(\u001b[0m\u001b[0mmerge_df\u001b[0m\u001b[1;33m[\u001b[0m\u001b[1;34m'Temp_Farenheit'\u001b[0m\u001b[1;33m]\u001b[0m\u001b[1;33m<=\u001b[0m\u001b[1;36m60\u001b[0m\u001b[1;33m)\u001b[0m \u001b[1;33m|\u001b[0m \u001b[1;33m(\u001b[0m\u001b[0mmerge_df\u001b[0m\u001b[1;33m[\u001b[0m\u001b[1;34m'Temp_Farenheit'\u001b[0m\u001b[1;33m]\u001b[0m\u001b[1;33m>=\u001b[0m\u001b[1;36m70\u001b[0m\u001b[1;33m)\u001b[0m \u001b[1;33m&\u001b[0m \u001b[1;33m(\u001b[0m\u001b[0mmerge_df\u001b[0m\u001b[1;33m[\u001b[0m\u001b[1;34m'Temp_Farenheit'\u001b[0m\u001b[1;33m]\u001b[0m\u001b[1;33m<=\u001b[0m\u001b[1;36m86\u001b[0m\u001b[1;33m)\u001b[0m\u001b[1;33m]\u001b[0m\u001b[1;33m\u001b[0m\u001b[1;33m\u001b[0m\u001b[0m\n\u001b[1;32m---> 13\u001b[1;33m \u001b[0mZONE_df\u001b[0m \u001b[1;33m=\u001b[0m \u001b[0mzone1_2_df\u001b[0m\u001b[1;33m.\u001b[0m\u001b[0mdropna\u001b[0m\u001b[1;33m(\u001b[0m\u001b[0mhow\u001b[0m\u001b[1;33m=\u001b[0m\u001b[1;34m'any'\u001b[0m\u001b[1;33m)\u001b[0m\u001b[1;33m\u001b[0m\u001b[1;33m\u001b[0m\u001b[0m\n\u001b[0m\u001b[0;32m     14\u001b[0m \u001b[1;33m\u001b[0m\u001b[0m\n\u001b[0;32m     15\u001b[0m \u001b[1;33m\u001b[0m\u001b[0m\n",
      "\u001b[1;31mNameError\u001b[0m: name 'zone1_2_df' is not defined"
     ]
    }
   ],
   "source": [
    "# Crop data to area of interest\n",
    "zone1_df = merge_df.loc[(merge_df['Temp_Farenheit']>=40) & (merge_df['Temp_Farenheit']<=60)]\n",
    "zone1_df\n",
    "\n",
    "zone2_df = merge_df.loc[(merge_df['Temp_Farenheit']>=70) & (merge_df['Temp_Farenheit']<=86)]\n",
    "zone2_df\n",
    "\n",
    "zone3_df = merge_df.loc[(merge_df['Temp_Farenheit']>=18) & (merge_df['Temp_Farenheit']<=28)]\n",
    "zone3_df\n",
    "\n",
    "# Create a merged (zone1, 2 & 3) dataframe\n",
    "ZONE_df = merge_df.loc[(merge_df['Temp_Farenheit']>=18) & (merge_df['Temp_Farenheit']<=28) | (merge_df['Temp_Farenheit']>=40) & (merge_df['Temp_Farenheit']<=60) | (merge_df['Temp_Farenheit']>=70) & (merge_df['Temp_Farenheit']<=86)]\n",
    "ZONE_df = zone1_2_df.dropna(how='any')\n",
    "\n",
    "\n",
    "# # Understand the data\n",
    "ZoneCountries = Regress_df['ISO3'].nunique()\n",
    "print(f\"No. of countries after filter {ZoneCountries}\")\n",
    "\n",
    "ZONE_df"
   ]
  },
  {
   "cell_type": "code",
   "execution_count": null,
   "metadata": {},
   "outputs": [],
   "source": [
    "# # Looking for Regressions\n",
    "# Looking at the trend line for temperature over time (10yrs) for each country and GDP over time for \n",
    "# the same country storing these values to compare them.\n",
    "\n",
    "# FOR COMBINED ZONES OF INTEREST\n",
    "ListofISO3_Merged = ZONE_df['ISO3']\n",
    "ZONERegressList = []\n",
    "ZONERegressDictGDP = {}\n",
    "ZONERegressDictTemp = {}\n",
    "R_ValuesGDP = {}\n",
    "R_ValuesTemp = {}\n",
    "\n",
    "# Run for loop to get regression values for GDP for each country\n",
    "for ISO in ListofISO3_Merged:\n",
    "    ZONECorrelation_df = ZONE_df.loc[ZONE_df['ISO3']== ISO]\n",
    "    GDP = ZONECorrelation_df['GDP']\n",
    "    Temps = ZONECorrelation_df['Temp_Farenheit']\n",
    "    Yrs = ZONECorrelation_df['Year']    \n",
    "\n",
    "    #  LINEAR REGRESSION MODEL \n",
    "    # Run the regression and store each of the returned values\n",
    "    slope, intercept, rvalue, pvalue, stderr = linregress(Yrs, GDP)\n",
    "    Zone_regression = [slope, intercept, rvalue, pvalue, stderr]\n",
    "    Zone_Rvalue = Zone_regression[2]\n",
    "    ZONERegressDictGDP[ISO] = Zone_Rvalue\n",
    "R_ValuesGDP = ZONERegressDictGDP\n",
    "\n",
    "# Run for loop to get regression values for annual average Temperature for each country\n",
    "for ISO in ListofISO3_Merged:\n",
    "    ZONECorrelation_df = ZONE_df.loc[ZONE_df['ISO3']== ISO]\n",
    "    GDP = ZONECorrelation_df['GDP']\n",
    "    Temps = ZONECorrelation_df['Temp_Farenheit']\n",
    "    Yrs = ZONECorrelation_df['Year']    \n",
    "\n",
    "    #  LINEAR REGRESSION MODEL \n",
    "    # Run the regression and store each of the returned values\n",
    "    slope, intercept, rvalue, pvalue, stderr = linregress(Yrs, Temps)\n",
    "    Zone_regression = [slope, intercept, rvalue, pvalue, stderr]\n",
    "    Zone_Rvalue = Zone_regression[2]\n",
    "    ZONERegressDictTemp[ISO] = Zone_Rvalue\n",
    "R_ValuesTemp = ZONERegressDictTemp\n"
   ]
  },
  {
   "cell_type": "code",
   "execution_count": null,
   "metadata": {
    "scrolled": true
   },
   "outputs": [],
   "source": [
    "# # Comparing GDP and Temperature regressions\n",
    "# Looking at the difference between the r-value for the GDP trend line and the annual temperature of a given \n",
    "# country would help ascertain any relationship.\n",
    "# For example, a high, positive r-value for the GDP trend line and a smiliar high, positive r-value for the \n",
    "# annual temperature trend line indicates the possibility of a correlation.\n",
    "\n",
    "# # Understand the data\n",
    "maxTempRegression = Regress_df['TEMP_REGRESS'].max()\n",
    "minTempRegression = Regress_df['TEMP_REGRESS'].min()\n",
    "print(f\"Maximum temperature in data is {maxTempRegression}\")\n",
    "print(f\"Minimum temperature in data is {minTempRegression}\")\n",
    "\n",
    "maxGDPRegression = Regress_df['GDP_REGRESS'].max()\n",
    "minGDPRegression = Regress_df['GDP_REGRESS'].min()\n",
    "print(f\"Maximum temperature in data is {maxGDPRegression}\")\n",
    "print(f\"Minimum temperature in data is {minGDPRegression}\")\n",
    "\n",
    "\n",
    "# Create a df to look at the GDP and Temperature regressions\n",
    "RegressList ={\"TEMP_REGRESS\": R_ValuesTemp_z12,\"GDP_REGRESS\": R_ValuesGDP_z12}\n",
    "Regress_df = pd.DataFrame(RegressList)\n",
    "Regress_df = Regress_df.reset_index()\n",
    "Regress_df = Regress_df.rename(columns={'index': 'ISO3'})\n",
    "Regress_df['Regression_diff'] = Regress_df['TEMP_REGRESS'] - Regress_df['GDP_REGRESS']\n",
    "Regress_df = Regress_df.sort_values(by='Regression_diff', ascending=True)\n",
    "Regress_df"
   ]
  },
  {
   "cell_type": "code",
   "execution_count": null,
   "metadata": {},
   "outputs": [],
   "source": [
    "# # Dual axis bar/line chart\n",
    "# A bar chart/ line graph to compare GDP and annual temperature trends over time.\n",
    "# Make a ISO List based on findings from regress data frame\n",
    "RegressList = ['TJK', 'BGD', 'WSM', 'TUV', 'BTN', 'UGA', 'GRC', 'AND', 'ITA', 'MNP', 'HRV', 'ESP', 'ALB', 'BIH', 'MNE', 'ROU', 'CZE', 'AUT']\n",
    "for ISO in RegressList:\n",
    "    BarGraph_df = zone1_2_df.loc[zone1_2_df['ISO3']== ISO]\n",
    "    yearList = BarGraph_df['Year'].unique()\n",
    "    yearNo = np.array(range(len(yearList)))\n",
    "    GDPNos = BarGraph_df['GDP_bd']\n",
    "    TempNos = BarGraph_df['Temp_Farenheit']\n",
    "    fig, ax = plt.subplots()\n",
    "    ax2 = ax.twinx()\n",
    "    ax.bar(yearList, GDPNos, color=(63/255,79/255,232/255,0.7), label='GDP_bd')\n",
    "    ax2.plot(yearList, TempNos, color='red', label='Temp(F)')\n",
    "    ax.set_xticklabels(yearList)\n",
    "    ax.legend(loc='best')\n",
    "    ax.set_title(f\"GDP bars and Average Annual temperature (F) Line Graph_{ISO}\")\n",
    "    ax.set_ylabel('GDP (bil,$)')\n",
    "    ax2.set_ylabel('Temperature(F)')\n",
    "    ax.set_xlabel('Time (Yr.)')\n",
    "    plt.savefig(f\"output_data/Q1/Fig2_GDP_BarChart_TempLineChart_{ISO}_2005-2015.png\")\n"
   ]
  },
  {
   "cell_type": "code",
   "execution_count": null,
   "metadata": {},
   "outputs": [],
   "source": [
    "# Lat long of capital cities of correlated countries\n",
    "# CorrCountriesList = []\n",
    "BGD = (23.763889, 90.388889)\n",
    "TUV = (-8.516667, 179.2)\n",
    "AND = (42.5, 1.516667)\n",
    "MNP = (15.19, 145.74)\n",
    "ALB = (41.316667, 19.816667)\n",
    "ROU = (44.416667, 26.1)\n",
    "\n",
    "CorrCountriesList = [BGD,TUV, AND, MNP, ALB, ROU]"
   ]
  },
  {
   "cell_type": "code",
   "execution_count": null,
   "metadata": {
    "scrolled": true
   },
   "outputs": [],
   "source": [
    "# CREATE A GEOXXXX MAP\n",
    "# STEP 1 ---------------------------------------------------------\n",
    "# SET UP LAT LONG PAIRS\n",
    "Coords = CorrCountriesList\n",
    "Coords\n",
    "\n",
    "fig = gmaps.figure()\n",
    "\n",
    "# Create a marker layer using our coordinates\n",
    "markers = gmaps.marker_layer(Coords)\n",
    "\n",
    "# Add the layer to the map\n",
    "fig.add_layer(markers)\n",
    "\n",
    "# display the figure with the newly added layer\n",
    "fig\n",
    "\n"
   ]
  },
  {
   "cell_type": "code",
   "execution_count": null,
   "metadata": {},
   "outputs": [],
   "source": []
  },
  {
   "cell_type": "code",
   "execution_count": null,
   "metadata": {},
   "outputs": [],
   "source": []
  },
  {
   "cell_type": "code",
   "execution_count": null,
   "metadata": {},
   "outputs": [],
   "source": []
  }
 ],
 "metadata": {
  "kernelspec": {
   "display_name": "Python 3",
   "language": "python",
   "name": "python3"
  },
  "language_info": {
   "codemirror_mode": {
    "name": "ipython",
    "version": 3
   },
   "file_extension": ".py",
   "mimetype": "text/x-python",
   "name": "python",
   "nbconvert_exporter": "python",
   "pygments_lexer": "ipython3",
   "version": "3.8.3"
  }
 },
 "nbformat": 4,
 "nbformat_minor": 2
}
