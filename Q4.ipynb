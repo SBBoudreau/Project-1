{
 "cells": [
  {
   "cell_type": "markdown",
   "metadata": {},
   "source": [
    "<h4>Explore how weather affects GDP in Industrial based economies</h4>"
   ]
  },
  {
   "cell_type": "code",
   "execution_count": 1,
   "metadata": {},
   "outputs": [],
   "source": [
    "#import dependencies\n",
    "import requests \n",
    "import json\n",
    "from pprint import pprint\n",
    "import os\n",
    "import pandas as pd\n",
    "import csv\n",
    "import numpy as np\n",
    "import matplotlib\n",
    "import matplotlib.pyplot as plt\n"
   ]
  },
  {
   "cell_type": "code",
   "execution_count": 7,
   "metadata": {},
   "outputs": [
    {
     "data": {
      "text/html": [
       "<div>\n",
       "<style scoped>\n",
       "    .dataframe tbody tr th:only-of-type {\n",
       "        vertical-align: middle;\n",
       "    }\n",
       "\n",
       "    .dataframe tbody tr th {\n",
       "        vertical-align: top;\n",
       "    }\n",
       "\n",
       "    .dataframe thead th {\n",
       "        text-align: right;\n",
       "    }\n",
       "</style>\n",
       "<table border=\"1\" class=\"dataframe\">\n",
       "  <thead>\n",
       "    <tr style=\"text-align: right;\">\n",
       "      <th></th>\n",
       "      <th>Unnamed: 0</th>\n",
       "      <th>ISO3</th>\n",
       "      <th>Country</th>\n",
       "      <th>Year</th>\n",
       "      <th>Temp_Farenheit</th>\n",
       "      <th>Rainfall_mm</th>\n",
       "      <th>GDP</th>\n",
       "    </tr>\n",
       "  </thead>\n",
       "  <tbody>\n",
       "    <tr>\n",
       "      <th>0</th>\n",
       "      <td>0</td>\n",
       "      <td>AFG</td>\n",
       "      <td>Afghanistan</td>\n",
       "      <td>2005</td>\n",
       "      <td>56.087945</td>\n",
       "      <td>29.609967</td>\n",
       "      <td>6.209138e+09</td>\n",
       "    </tr>\n",
       "    <tr>\n",
       "      <th>1</th>\n",
       "      <td>1</td>\n",
       "      <td>AFG</td>\n",
       "      <td>Afghanistan</td>\n",
       "      <td>2006</td>\n",
       "      <td>57.501470</td>\n",
       "      <td>27.120458</td>\n",
       "      <td>6.971286e+09</td>\n",
       "    </tr>\n",
       "    <tr>\n",
       "      <th>2</th>\n",
       "      <td>2</td>\n",
       "      <td>AFG</td>\n",
       "      <td>Afghanistan</td>\n",
       "      <td>2007</td>\n",
       "      <td>56.320054</td>\n",
       "      <td>25.329681</td>\n",
       "      <td>9.747880e+09</td>\n",
       "    </tr>\n",
       "    <tr>\n",
       "      <th>3</th>\n",
       "      <td>3</td>\n",
       "      <td>AFG</td>\n",
       "      <td>Afghanistan</td>\n",
       "      <td>2008</td>\n",
       "      <td>56.755070</td>\n",
       "      <td>21.505365</td>\n",
       "      <td>1.010923e+10</td>\n",
       "    </tr>\n",
       "    <tr>\n",
       "      <th>4</th>\n",
       "      <td>4</td>\n",
       "      <td>AFG</td>\n",
       "      <td>Afghanistan</td>\n",
       "      <td>2009</td>\n",
       "      <td>56.807912</td>\n",
       "      <td>31.106477</td>\n",
       "      <td>1.243909e+10</td>\n",
       "    </tr>\n",
       "  </tbody>\n",
       "</table>\n",
       "</div>"
      ],
      "text/plain": [
       "   Unnamed: 0 ISO3      Country  Year  Temp_Farenheit  Rainfall_mm  \\\n",
       "0           0  AFG  Afghanistan  2005       56.087945    29.609967   \n",
       "1           1  AFG  Afghanistan  2006       57.501470    27.120458   \n",
       "2           2  AFG  Afghanistan  2007       56.320054    25.329681   \n",
       "3           3  AFG  Afghanistan  2008       56.755070    21.505365   \n",
       "4           4  AFG  Afghanistan  2009       56.807912    31.106477   \n",
       "\n",
       "            GDP  \n",
       "0  6.209138e+09  \n",
       "1  6.971286e+09  \n",
       "2  9.747880e+09  \n",
       "3  1.010923e+10  \n",
       "4  1.243909e+10  "
      ]
     },
     "execution_count": 7,
     "metadata": {},
     "output_type": "execute_result"
    }
   ],
   "source": [
    "# Read in Weather Data\n",
    "file_path = os.path.join(\"Resources\", \"Merge_data_2005-2015.csv\")\n",
    "df = pd.read_csv(file_path)\n",
    "\n",
    "df.head()"
   ]
  },
  {
   "cell_type": "code",
   "execution_count": 3,
   "metadata": {},
   "outputs": [
    {
     "data": {
      "text/html": [
       "<div>\n",
       "<style scoped>\n",
       "    .dataframe tbody tr th:only-of-type {\n",
       "        vertical-align: middle;\n",
       "    }\n",
       "\n",
       "    .dataframe tbody tr th {\n",
       "        vertical-align: top;\n",
       "    }\n",
       "\n",
       "    .dataframe thead th {\n",
       "        text-align: right;\n",
       "    }\n",
       "</style>\n",
       "<table border=\"1\" class=\"dataframe\">\n",
       "  <thead>\n",
       "    <tr style=\"text-align: right;\">\n",
       "      <th></th>\n",
       "      <th>Unnamed: 0</th>\n",
       "      <th>ISO3</th>\n",
       "      <th>Country</th>\n",
       "      <th>Year</th>\n",
       "      <th>Temp_Farenheit</th>\n",
       "      <th>Rainfall_mm</th>\n",
       "      <th>GDP</th>\n",
       "    </tr>\n",
       "  </thead>\n",
       "  <tbody>\n",
       "    <tr>\n",
       "      <th>44</th>\n",
       "      <td>44</td>\n",
       "      <td>AGO</td>\n",
       "      <td>Angola</td>\n",
       "      <td>2005</td>\n",
       "      <td>72.93929</td>\n",
       "      <td>75.337706</td>\n",
       "      <td>3.697092e+10</td>\n",
       "    </tr>\n",
       "    <tr>\n",
       "      <th>45</th>\n",
       "      <td>45</td>\n",
       "      <td>AGO</td>\n",
       "      <td>Angola</td>\n",
       "      <td>2006</td>\n",
       "      <td>71.65607</td>\n",
       "      <td>89.743115</td>\n",
       "      <td>5.238101e+10</td>\n",
       "    </tr>\n",
       "    <tr>\n",
       "      <th>46</th>\n",
       "      <td>46</td>\n",
       "      <td>AGO</td>\n",
       "      <td>Angola</td>\n",
       "      <td>2007</td>\n",
       "      <td>71.58845</td>\n",
       "      <td>80.789970</td>\n",
       "      <td>6.526645e+10</td>\n",
       "    </tr>\n",
       "    <tr>\n",
       "      <th>47</th>\n",
       "      <td>47</td>\n",
       "      <td>AGO</td>\n",
       "      <td>Angola</td>\n",
       "      <td>2008</td>\n",
       "      <td>71.34569</td>\n",
       "      <td>84.154968</td>\n",
       "      <td>8.853861e+10</td>\n",
       "    </tr>\n",
       "    <tr>\n",
       "      <th>48</th>\n",
       "      <td>48</td>\n",
       "      <td>AGO</td>\n",
       "      <td>Angola</td>\n",
       "      <td>2009</td>\n",
       "      <td>72.11462</td>\n",
       "      <td>85.467502</td>\n",
       "      <td>7.030716e+10</td>\n",
       "    </tr>\n",
       "  </tbody>\n",
       "</table>\n",
       "</div>"
      ],
      "text/plain": [
       "    Unnamed: 0 ISO3 Country  Year  Temp_Farenheit  Rainfall_mm           GDP\n",
       "44          44  AGO  Angola  2005        72.93929    75.337706  3.697092e+10\n",
       "45          45  AGO  Angola  2006        71.65607    89.743115  5.238101e+10\n",
       "46          46  AGO  Angola  2007        71.58845    80.789970  6.526645e+10\n",
       "47          47  AGO  Angola  2008        71.34569    84.154968  8.853861e+10\n",
       "48          48  AGO  Angola  2009        72.11462    85.467502  7.030716e+10"
      ]
     },
     "execution_count": 3,
     "metadata": {},
     "output_type": "execute_result"
    }
   ],
   "source": [
    "# Filter data for countries with industrial based economies\n",
    "industrial_ISO3 = [\"AGO\", \"KWT\", \"MNP\", \"TLS\", \"BRN\", \"GNQ\", \"AZE\", \"LBY\", \"IRQ\"]\n",
    "industrial_df = df[df.ISO3.isin(industrial_ISO3)]\n",
    "\n",
    "industrial_df.head()\n"
   ]
  },
  {
   "cell_type": "code",
   "execution_count": 19,
   "metadata": {},
   "outputs": [
    {
     "name": "stdout",
     "output_type": "stream",
     "text": [
      "Angola\n"
     ]
    },
    {
     "data": {
      "image/png": "[encoded data removed]",
      "text/plain": [
       "<Figure size 432x288 with 1 Axes>"
      ]
     },
     "metadata": {
      "needs_background": "light"
     },
     "output_type": "display_data"
    }
   ],
   "source": [
    "# Create a graph of GDP vs Temp for Angola\n",
    "ang_df = industrial_df[industrial_df[\"ISO3\"] == \"AGO\"]\n",
    "plt.scatter(ang_df[\"GDP\"], ang_df[\"Rainfall_mm\"])\n",
    "print(str(ang_df.iloc[0][\"Country\"]))"
   ]
  },
  {
   "cell_type": "code",
   "execution_count": 92,
   "metadata": {},
   "outputs": [
    {
     "data": {
      "text/plain": [
       "<matplotlib.axes._subplots.AxesSubplot at 0x236e5b98048>"
      ]
     },
     "execution_count": 92,
     "metadata": {},
     "output_type": "execute_result"
    },
    {
     "data": {
      "image/png": "[encoded data removed]",
      "text/plain": [
       "<Figure size 432x288 with 2 Axes>"
      ]
     },
     "metadata": {
      "needs_background": "light"
     },
     "output_type": "display_data"
    }
   ],
   "source": [
    "fig, ax = plt.subplots()\n",
    "\n",
    "other_df = industrial_df.copy(deep=True)\n",
    "\n",
    "other_df['ISO3'] = other_df['ISO3'].astype('category')\n",
    "\n",
    "other_df.plot.scatter(ax=ax, x='GDP', y=\"Temp_Farenheit\", subplots=False, c=other_df['ISO3'].cat.codes, colormap='hsv', ylim=(70, 90))\n",
    "\n",
    "# industrial_df.plot.scatter(x='GDP', y=\"Temp_Farenheit\", c=industrial_df['ISO3'].unique())\n",
    "\n",
    "# plt.scatter(industrial_df[\"GDP\"], industrial_df[\"Temp_Farenheit\"])"
   ]
  },
  {
   "cell_type": "code",
   "execution_count": 15,
   "metadata": {},
   "outputs": [
    {
     "data": {
      "image/png": "[encoded data removed]",
      "text/plain": [
       "<Figure size 432x288 with 1 Axes>"
      ]
     },
     "metadata": {
      "needs_background": "light"
     },
     "output_type": "display_data"
    },
    {
     "data": {
      "image/png": "[encoded data removed]",
      "text/plain": [
       "<Figure size 432x288 with 1 Axes>"
      ]
     },
     "metadata": {
      "needs_background": "light"
     },
     "output_type": "display_data"
    },
    {
     "data": {
      "image/png": "[encoded data removed]",
      "text/plain": [
       "<Figure size 432x288 with 1 Axes>"
      ]
     },
     "metadata": {
      "needs_background": "light"
     },
     "output_type": "display_data"
    },
    {
     "data": {
      "image/png": "[encoded data removed]",
      "text/plain": [
       "<Figure size 432x288 with 1 Axes>"
      ]
     },
     "metadata": {
      "needs_background": "light"
     },
     "output_type": "display_data"
    },
    {
     "data": {
      "image/png": "[encoded data removed]",
      "text/plain": [
       "<Figure size 432x288 with 1 Axes>"
      ]
     },
     "metadata": {
      "needs_background": "light"
     },
     "output_type": "display_data"
    },
    {
     "data": {
      "image/png": "[encoded data removed]",
      "text/plain": [
       "<Figure size 432x288 with 1 Axes>"
      ]
     },
     "metadata": {
      "needs_background": "light"
     },
     "output_type": "display_data"
    },
    {
     "data": {
      "image/png": "[encoded data removed]",
      "text/plain": [
       "<Figure size 432x288 with 1 Axes>"
      ]
     },
     "metadata": {
      "needs_background": "light"
     },
     "output_type": "display_data"
    },
    {
     "data": {
      "image/png": "[encoded data removed]",
      "text/plain": [
       "<Figure size 432x288 with 1 Axes>"
      ]
     },
     "metadata": {
      "needs_background": "light"
     },
     "output_type": "display_data"
    },
    {
     "data": {
      "image/png": "[encoded data removed]",
      "text/plain": [
       "<Figure size 432x288 with 1 Axes>"
      ]
     },
     "metadata": {
      "needs_background": "light"
     },
     "output_type": "display_data"
    }
   ],
   "source": [
    "# \n",
    "\n",
    "for code in industrial_ISO3:\n",
    "    country_df = industrial_df[industrial_df[\"ISO3\"] == code]\n",
    "    plt.figure()\n",
    "    plt.scatter(country_df[\"GDP\"], country_df[\"Temp_Farenheit\"])\n",
    "    plt.show()"
   ]
  },
  {
   "cell_type": "code",
   "execution_count": 22,
   "metadata": {},
   "outputs": [
    {
     "data": {
      "text/html": [
       "<div>\n",
       "<style scoped>\n",
       "    .dataframe tbody tr th:only-of-type {\n",
       "        vertical-align: middle;\n",
       "    }\n",
       "\n",
       "    .dataframe tbody tr th {\n",
       "        vertical-align: top;\n",
       "    }\n",
       "\n",
       "    .dataframe thead th {\n",
       "        text-align: right;\n",
       "    }\n",
       "</style>\n",
       "<table border=\"1\" class=\"dataframe\">\n",
       "  <thead>\n",
       "    <tr style=\"text-align: right;\">\n",
       "      <th></th>\n",
       "      <th>Year</th>\n",
       "      <th>Temp_Farenheit</th>\n",
       "      <th>Rainfall_mm</th>\n",
       "      <th>GDP</th>\n",
       "    </tr>\n",
       "  </thead>\n",
       "  <tbody>\n",
       "    <tr>\n",
       "      <th>Year</th>\n",
       "      <td>1.000000</td>\n",
       "      <td>0.012692</td>\n",
       "      <td>0.024587</td>\n",
       "      <td>0.235600</td>\n",
       "    </tr>\n",
       "    <tr>\n",
       "      <th>Temp_Farenheit</th>\n",
       "      <td>0.012692</td>\n",
       "      <td>1.000000</td>\n",
       "      <td>0.482057</td>\n",
       "      <td>-0.160896</td>\n",
       "    </tr>\n",
       "    <tr>\n",
       "      <th>Rainfall_mm</th>\n",
       "      <td>0.024587</td>\n",
       "      <td>0.482057</td>\n",
       "      <td>1.000000</td>\n",
       "      <td>-0.566927</td>\n",
       "    </tr>\n",
       "    <tr>\n",
       "      <th>GDP</th>\n",
       "      <td>0.235600</td>\n",
       "      <td>-0.160896</td>\n",
       "      <td>-0.566927</td>\n",
       "      <td>1.000000</td>\n",
       "    </tr>\n",
       "  </tbody>\n",
       "</table>\n",
       "</div>"
      ],
      "text/plain": [
       "                    Year  Temp_Farenheit  Rainfall_mm       GDP\n",
       "Year            1.000000        0.012692     0.024587  0.235600\n",
       "Temp_Farenheit  0.012692        1.000000     0.482057 -0.160896\n",
       "Rainfall_mm     0.024587        0.482057     1.000000 -0.566927\n",
       "GDP             0.235600       -0.160896    -0.566927  1.000000"
      ]
     },
     "execution_count": 22,
     "metadata": {},
     "output_type": "execute_result"
    }
   ],
   "source": [
    "var_df = industrial_df.drop('Unnamed: 0', axis=1).corr()\n",
    "var_df\n"
   ]
  },
  {
   "cell_type": "code",
   "execution_count": 27,
   "metadata": {},
   "outputs": [
    {
     "name": "stdout",
     "output_type": "stream",
     "text": [
      "-0.160895862806236\n"
     ]
    }
   ],
   "source": [
    "var = var_df.iloc[3][\"Temp_Farenheit\"]\n",
    "print(var)"
   ]
  },
  {
   "cell_type": "code",
   "execution_count": 95,
   "metadata": {},
   "outputs": [
    {
     "data": {
      "text/plain": [
       "[<matplotlib.lines.Line2D at 0x236e5c8fa88>]"
      ]
     },
     "execution_count": 95,
     "metadata": {},
     "output_type": "execute_result"
    },
    {
     "data": {
      "image/png": "[encoded data removed]",
      "text/plain": [
       "<Figure size 432x288 with 1 Axes>"
      ]
     },
     "metadata": {
      "needs_background": "light"
     },
     "output_type": "display_data"
    }
   ],
   "source": [
    "plt.plot(ang_df[\"Year\"], ang_df[\"GDP\"])"
   ]
  },
  {
   "cell_type": "code",
   "execution_count": 99,
   "metadata": {},
   "outputs": [
    {
     "data": {
      "text/html": [
       "<div>\n",
       "<style scoped>\n",
       "    .dataframe tbody tr th:only-of-type {\n",
       "        vertical-align: middle;\n",
       "    }\n",
       "\n",
       "    .dataframe tbody tr th {\n",
       "        vertical-align: top;\n",
       "    }\n",
       "\n",
       "    .dataframe thead th {\n",
       "        text-align: right;\n",
       "    }\n",
       "</style>\n",
       "<table border=\"1\" class=\"dataframe\">\n",
       "  <thead>\n",
       "    <tr style=\"text-align: right;\">\n",
       "      <th></th>\n",
       "      <th>Unnamed: 0</th>\n",
       "      <th>ISO3</th>\n",
       "      <th>Country</th>\n",
       "      <th>Year</th>\n",
       "      <th>Temp_Farenheit</th>\n",
       "      <th>Rainfall_mm</th>\n",
       "      <th>GDP</th>\n",
       "    </tr>\n",
       "  </thead>\n",
       "  <tbody>\n",
       "    <tr>\n",
       "      <th>44</th>\n",
       "      <td>44</td>\n",
       "      <td>AGO</td>\n",
       "      <td>Angola</td>\n",
       "      <td>2005</td>\n",
       "      <td>72.939290</td>\n",
       "      <td>75.337706</td>\n",
       "      <td>3.697092e+10</td>\n",
       "    </tr>\n",
       "    <tr>\n",
       "      <th>45</th>\n",
       "      <td>45</td>\n",
       "      <td>AGO</td>\n",
       "      <td>Angola</td>\n",
       "      <td>2006</td>\n",
       "      <td>71.656070</td>\n",
       "      <td>89.743115</td>\n",
       "      <td>5.238101e+10</td>\n",
       "    </tr>\n",
       "    <tr>\n",
       "      <th>46</th>\n",
       "      <td>46</td>\n",
       "      <td>AGO</td>\n",
       "      <td>Angola</td>\n",
       "      <td>2007</td>\n",
       "      <td>71.588450</td>\n",
       "      <td>80.789970</td>\n",
       "      <td>6.526645e+10</td>\n",
       "    </tr>\n",
       "    <tr>\n",
       "      <th>47</th>\n",
       "      <td>47</td>\n",
       "      <td>AGO</td>\n",
       "      <td>Angola</td>\n",
       "      <td>2008</td>\n",
       "      <td>71.345690</td>\n",
       "      <td>84.154968</td>\n",
       "      <td>8.853861e+10</td>\n",
       "    </tr>\n",
       "    <tr>\n",
       "      <th>48</th>\n",
       "      <td>48</td>\n",
       "      <td>AGO</td>\n",
       "      <td>Angola</td>\n",
       "      <td>2009</td>\n",
       "      <td>72.114620</td>\n",
       "      <td>85.467502</td>\n",
       "      <td>7.030716e+10</td>\n",
       "    </tr>\n",
       "    <tr>\n",
       "      <th>...</th>\n",
       "      <td>...</td>\n",
       "      <td>...</td>\n",
       "      <td>...</td>\n",
       "      <td>...</td>\n",
       "      <td>...</td>\n",
       "      <td>...</td>\n",
       "      <td>...</td>\n",
       "    </tr>\n",
       "    <tr>\n",
       "      <th>1920</th>\n",
       "      <td>1920</td>\n",
       "      <td>TLS</td>\n",
       "      <td>Timor Leste</td>\n",
       "      <td>2011</td>\n",
       "      <td>76.422080</td>\n",
       "      <td>177.178219</td>\n",
       "      <td>1.054726e+09</td>\n",
       "    </tr>\n",
       "    <tr>\n",
       "      <th>1921</th>\n",
       "      <td>1921</td>\n",
       "      <td>TLS</td>\n",
       "      <td>Timor Leste</td>\n",
       "      <td>2012</td>\n",
       "      <td>76.963505</td>\n",
       "      <td>136.245473</td>\n",
       "      <td>1.147780e+09</td>\n",
       "    </tr>\n",
       "    <tr>\n",
       "      <th>1922</th>\n",
       "      <td>1922</td>\n",
       "      <td>TLS</td>\n",
       "      <td>Timor Leste</td>\n",
       "      <td>2013</td>\n",
       "      <td>78.301475</td>\n",
       "      <td>176.895558</td>\n",
       "      <td>1.395525e+09</td>\n",
       "    </tr>\n",
       "    <tr>\n",
       "      <th>1923</th>\n",
       "      <td>1923</td>\n",
       "      <td>TLS</td>\n",
       "      <td>Timor Leste</td>\n",
       "      <td>2014</td>\n",
       "      <td>77.854040</td>\n",
       "      <td>128.740425</td>\n",
       "      <td>1.447312e+09</td>\n",
       "    </tr>\n",
       "    <tr>\n",
       "      <th>1924</th>\n",
       "      <td>1924</td>\n",
       "      <td>TLS</td>\n",
       "      <td>Timor Leste</td>\n",
       "      <td>2015</td>\n",
       "      <td>77.951900</td>\n",
       "      <td>119.425364</td>\n",
       "      <td>1.596659e+09</td>\n",
       "    </tr>\n",
       "  </tbody>\n",
       "</table>\n",
       "<p>99 rows × 7 columns</p>\n",
       "</div>"
      ],
      "text/plain": [
       "      Unnamed: 0 ISO3      Country  Year  Temp_Farenheit  Rainfall_mm  \\\n",
       "44            44  AGO       Angola  2005       72.939290    75.337706   \n",
       "45            45  AGO       Angola  2006       71.656070    89.743115   \n",
       "46            46  AGO       Angola  2007       71.588450    80.789970   \n",
       "47            47  AGO       Angola  2008       71.345690    84.154968   \n",
       "48            48  AGO       Angola  2009       72.114620    85.467502   \n",
       "...          ...  ...          ...   ...             ...          ...   \n",
       "1920        1920  TLS  Timor Leste  2011       76.422080   177.178219   \n",
       "1921        1921  TLS  Timor Leste  2012       76.963505   136.245473   \n",
       "1922        1922  TLS  Timor Leste  2013       78.301475   176.895558   \n",
       "1923        1923  TLS  Timor Leste  2014       77.854040   128.740425   \n",
       "1924        1924  TLS  Timor Leste  2015       77.951900   119.425364   \n",
       "\n",
       "               GDP  \n",
       "44    3.697092e+10  \n",
       "45    5.238101e+10  \n",
       "46    6.526645e+10  \n",
       "47    8.853861e+10  \n",
       "48    7.030716e+10  \n",
       "...            ...  \n",
       "1920  1.054726e+09  \n",
       "1921  1.147780e+09  \n",
       "1922  1.395525e+09  \n",
       "1923  1.447312e+09  \n",
       "1924  1.596659e+09  \n",
       "\n",
       "[99 rows x 7 columns]"
      ]
     },
     "execution_count": 99,
     "metadata": {},
     "output_type": "execute_result"
    }
   ],
   "source": [
    "\n"
   ]
  },
  {
   "cell_type": "code",
   "execution_count": null,
   "metadata": {},
   "outputs": [],
   "source": []
  }
 ],
 "metadata": {
  "kernelspec": {
   "display_name": "Python 3",
   "language": "python",
   "name": "python3"
  },
  "language_info": {
   "codemirror_mode": {
    "name": "ipython",
    "version": 3
   },
   "file_extension": ".py",
   "mimetype": "text/x-python",
   "name": "python",
   "nbconvert_exporter": "python",
   "pygments_lexer": "ipython3",
   "version": "3.8.3"
  }
 },
 "nbformat": 4,
 "nbformat_minor": 4
}
