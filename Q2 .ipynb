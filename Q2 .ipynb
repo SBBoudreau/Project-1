{
 "cells": [
  {
   "cell_type": "code",
   "execution_count": 1,
   "metadata": {},
   "outputs": [
    {
     "ename": "ModuleNotFoundError",
     "evalue": "No module named 'config'",
     "output_type": "error",
     "traceback": [
      "\u001b[1;31m---------------------------------------------------------------------------\u001b[0m",
      "\u001b[1;31mModuleNotFoundError\u001b[0m                       Traceback (most recent call last)",
      "\u001b[1;32m<ipython-input-1-f667da25cc2e>\u001b[0m in \u001b[0;36m<module>\u001b[1;34m\u001b[0m\n\u001b[0;32m     12\u001b[0m \u001b[1;32mfrom\u001b[0m \u001b[0mscipy\u001b[0m\u001b[1;33m.\u001b[0m\u001b[0mstats\u001b[0m \u001b[1;32mimport\u001b[0m \u001b[0msem\u001b[0m\u001b[1;33m\u001b[0m\u001b[1;33m\u001b[0m\u001b[0m\n\u001b[0;32m     13\u001b[0m \u001b[1;32mfrom\u001b[0m \u001b[0mscipy\u001b[0m\u001b[1;33m.\u001b[0m\u001b[0mstats\u001b[0m \u001b[1;32mimport\u001b[0m \u001b[0mlinregress\u001b[0m\u001b[1;33m\u001b[0m\u001b[1;33m\u001b[0m\u001b[0m\n\u001b[1;32m---> 14\u001b[1;33m \u001b[1;32mfrom\u001b[0m \u001b[0mconfig\u001b[0m \u001b[1;32mimport\u001b[0m \u001b[0mQ1api_key\u001b[0m\u001b[1;33m\u001b[0m\u001b[1;33m\u001b[0m\u001b[0m\n\u001b[0m\u001b[0;32m     15\u001b[0m \u001b[1;32mfrom\u001b[0m \u001b[0mconfig\u001b[0m \u001b[1;32mimport\u001b[0m \u001b[0mQ1_GKey\u001b[0m\u001b[1;33m\u001b[0m\u001b[1;33m\u001b[0m\u001b[0m\n",
      "\u001b[1;31mModuleNotFoundError\u001b[0m: No module named 'config'"
     ]
    }
   ],
   "source": [
    "import requests \n",
    "import json\n",
    "from pprint import pprint\n",
    "import os\n",
    "import pandas as pd\n",
    "import csv\n",
    "import numpy as np\n",
    "import matplotlib\n",
    "import matplotlib.pyplot as plt\n",
    "import scipy.stats as sts\n",
    "import gmaps\n",
    "from scipy.stats import sem\n",
    "from scipy.stats import linregress\n",
    "from config import Q1api_key\n",
    "from config import Q1_GKey"
   ]
  },
  {
   "cell_type": "code",
   "execution_count": null,
   "metadata": {},
   "outputs": [],
   "source": [
    "# # Import Merged GDP and Weather data\n",
    "merge_path = os.path.join(\"Resources\", \"Merge_data_2005-2015.csv\")\n",
    "merge_df = pd.read_csv(merge_path)\n",
    "\n",
    "merge_df.head()"
   ]
  },
  {
   "cell_type": "code",
   "execution_count": null,
   "metadata": {},
   "outputs": [],
   "source": [
    "# # Understand the data\n",
    "max_Rain = merge_df['Rainfall_mm'].max()\n",
    "min_Rain = merge_df['Rainfall_mm'].min()\n",
    "print(f\"Maximum temperature in data is {max_Rain}\")\n",
    "print(f\"Minimum temperature in data is {min_Rain}\")\n",
    "\n",
    "max_GDP = merge_df['GDP_bd'].max()\n",
    "min_GDP = merge_df['GDP_bd'].min()\n",
    "print(f\"Maximum Gross Domestic Product in data is {max_GDP}\")\n",
    "print(f\"Minimum Gross Domestic Product in data is {min_GDP}\")"
   ]
  },
  {
   "cell_type": "code",
   "execution_count": null,
   "metadata": {},
   "outputs": [],
   "source": [
    "# # Plot all the data\n",
    "# Plot the Rainfall versus GDP data to look for trend/features to investigate\n",
    "ListofISO34Plot = merge_df['ISO3']\n",
    "# # Make Scatter plot of Rainfall vs GDP  \n",
    "plt.figure(figsize=(10,5))\n",
    "plt.scatter(merge_df[\"GDP_bd\"], merge_df[\"Rainfall_mm\"], marker='o', facecolor='b', edgecolors='purple', alpha = 0.75)\n",
    "plt.title(f\"Average GDP vs Average Annual Precipitation (mm)\")\n",
    "plt.xlabel(\"Average GDP (bil $)\")\n",
    "plt.ylabel(\"Precipitation (mm)\")\n",
    "plt.tight_layout()\n",
    "plt.savefig(\"output_data/Q2/Fig1x_AvTemp_vs_GDP_AllCountries.png\")\n",
    "plt.show()"
   ]
  },
  {
   "cell_type": "code",
   "execution_count": null,
   "metadata": {},
   "outputs": [],
   "source": [
    "# Crop data to area of interest\n",
    "zone1_df = merge_df.loc[(merge_df['Rainfall_mm']>=150) & (merge_df['Rainfall_mm']<=250)]\n",
    "zone1_df\n",
    "\n",
    "zone2_df = merge_df.loc[(merge_df['Rainfall_mm']>=50) & (merge_df['Rainfall_mm']<=149)]\n",
    "zone2_df\n",
    "\n",
    "zone3_df = merge_df.loc[(merge_df['Rainfall_mm']> 0) & (merge_df['Rainfall_mm']<=49)]\n",
    "zone3_df\n",
    "\n",
    "# Create a merged (zone1, 2 & 3) dataframe\n",
    "ZONE_df = merge_df.loc[(merge_df['Rainfall_mm']>=150) & (merge_df['Rainfall_mm']<=250) | (merge_df['Rainfall_mm']>=50) & (merge_df['Rainfall_mm']<=149) | (merge_df['Rainfall_mm']> 0) & (merge_df['Rainfall_mm']<=49)]\n",
    "ZONE_df = ZONE_df.dropna(how='any')\n",
    "\n",
    "\n",
    "# # Understand the data\n",
    "ZoneCountries = ZONE_df['ISO3'].nunique()\n",
    "print(f\"No. of countries after filter {ZoneCountries}\")\n",
    "\n",
    "ZONE_df"
   ]
  },
  {
   "cell_type": "code",
   "execution_count": null,
   "metadata": {},
   "outputs": [],
   "source": [
    "# # Looking for Regressions\n",
    "# Looking at the trend line for temperature over time (10yrs) for each country and GDP over time for \n",
    "# the same country storing these values to compare them.\n",
    "\n",
    "# FOR COMBINED ZONES OF INTEREST\n",
    "ListofISO3_Merged = ZONE_df['ISO3']\n",
    "ZONERegressList = []\n",
    "ZONERegressDictGDP = {}\n",
    "ZONERegressDictRain = {}\n",
    "R_ValuesGDP = {}\n",
    "R_ValuesRain = {}\n",
    "\n",
    "# Run for loop to get regression values for GDP for each country\n",
    "for ISO in ListofISO3_Merged:\n",
    "    ZONECorrelation_df = ZONE_df.loc[ZONE_df['ISO3']== ISO]\n",
    "    GDP = ZONECorrelation_df['GDP']\n",
    "    Rain = ZONECorrelation_df['Rainfall_mm']\n",
    "    Yrs = ZONECorrelation_df['Year']    \n",
    "\n",
    "    #  LINEAR REGRESSION MODEL \n",
    "    # Run the regression and store each of the returned values\n",
    "    slope, intercept, rvalue, pvalue, stderr = linregress(Yrs, GDP)\n",
    "    Zone_regression = [slope, intercept, rvalue, pvalue, stderr]\n",
    "    Zone_Rvalue = Zone_regression[2]\n",
    "    ZONERegressDictGDP[ISO] = Zone_Rvalue\n",
    "R_ValuesGDP = ZONERegressDictGDP\n",
    "\n",
    "# Run for loop to get regression values for annual average Temperature for each country\n",
    "for ISO in ListofISO3_Merged:\n",
    "    ZONECorrelation_df = ZONE_df.loc[ZONE_df['ISO3']== ISO]\n",
    "    GDP = ZONECorrelation_df['GDP']\n",
    "    Rain = ZONECorrelation_df['Rainfall_mm']\n",
    "    Yrs = ZONECorrelation_df['Year']    \n",
    "\n",
    "    #  LINEAR REGRESSION MODEL \n",
    "    # Run the regression and store each of the returned values\n",
    "    slope, intercept, rvalue, pvalue, stderr = linregress(Yrs, Rain)\n",
    "    Zone_regression = [slope, intercept, rvalue, pvalue, stderr]\n",
    "    Zone_Rvalue = Zone_regression[2]\n",
    "    ZONERegressDictRain[ISO] = Zone_Rvalue\n",
    "R_ValuesRain = ZONERegressDictRain\n"
   ]
  },
  {
   "cell_type": "code",
   "execution_count": null,
   "metadata": {
    "scrolled": true
   },
   "outputs": [],
   "source": [
    "# # Comparing GDP and Temperature regressions\n",
    "# Looking at the difference between the r-value for the GDP trend line and the annual temperature of a given \n",
    "# country would help ascertain any relationship.\n",
    "# For example, a high, positive r-value for the GDP trend line and a smiliar high, positive r-value for the \n",
    "# annual temperature trend line indicates the possibility of a correlation.\n",
    "\n",
    "# Create a df to look at the GDP and Temperature regressions\n",
    "RegressList ={\"RAIN_REGRESS\": R_ValuesRain,\"GDP_REGRESS\": R_ValuesGDP}\n",
    "Regress_df = pd.DataFrame(RegressList)\n",
    "Regress_df = Regress_df.reset_index()\n",
    "Regress_df = Regress_df.rename(columns={'index': 'ISO3'})\n",
    "Regress_df['Regression_diff'] = Regress_df['RAIN_REGRESS'] - Regress_df['GDP_REGRESS']\n",
    "Regress_df = Regress_df.sort_values(by='Regression_diff', ascending=True)\n",
    "Regress_df.tail(50)"
   ]
  },
  {
   "cell_type": "code",
   "execution_count": null,
   "metadata": {},
   "outputs": [],
   "source": [
    "# # Dual axis bar/line chart\n",
    "# A bar chart/ line graph to compare GDP and annual temperature trends over time.\n",
    "# Make a ISO List based on findings from regress data frame\n",
    "RegressList = ['COL', 'FJI', 'MHL', 'GUY', 'DOM', 'CYP', 'ISL', 'JPN', 'GRC', 'AND', 'SVN', 'CAF', 'ITA', 'LBY', 'IRL', 'FIN']\n",
    "for ISO in RegressList:\n",
    "    BarGraph_df = ZONE_df.loc[ZONE_df['ISO3']== ISO]\n",
    "    yearList = BarGraph_df['Year'].unique()\n",
    "    yearNo = np.array(range(len(yearList)))\n",
    "    GDPNos = BarGraph_df['GDP_bd']\n",
    "    RainNos = BarGraph_df['Rainfall_mm']\n",
    "    fig, ax = plt.subplots()\n",
    "    ax2 = ax.twinx()\n",
    "    ax.bar(yearList, GDPNos, color=(63/255,79/255,232/255,0.7), label='GDP(bill $)')\n",
    "    ax2.plot(yearList, RainNos, color='red', label='Precipitation(mm)')\n",
    "    ax.set_xticklabels(yearList)\n",
    "    ax.legend(loc='center left', bbox_to_anchor=(0, -0.2))\n",
    "    ax2.legend(loc='center left', bbox_to_anchor=(0.6, -0.2))\n",
    "    ax.set_title(f\"GDP bars and Average Annual Precipitation(mm) Line Graph_{ISO}\")\n",
    "    ax.set_ylabel('GDP (bil,$)')\n",
    "    ax2.set_ylabel('Precipitation(mm)')\n",
    "    ax.set_xlabel('Time (Yr.)')\n",
    "    plt.tight_layout()\n",
    "    plt.savefig(f\"output_data/Q2/Fig2_GDP_BarChart_RainLineChart_{ISO}_2005-2015.png\")\n"
   ]
  },
  {
   "cell_type": "code",
   "execution_count": null,
   "metadata": {},
   "outputs": [],
   "source": []
  }
 ],
 "metadata": {
  "kernelspec": {
   "display_name": "Python 3",
   "language": "python",
   "name": "python3"
  },
  "language_info": {
   "codemirror_mode": {
    "name": "ipython",
    "version": 3
   },
   "file_extension": ".py",
   "mimetype": "text/x-python",
   "name": "python",
   "nbconvert_exporter": "python",
   "pygments_lexer": "ipython3",
   "version": "3.8.3"
  }
 },
 "nbformat": 4,
 "nbformat_minor": 2
}
